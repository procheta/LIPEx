{
 "cells": [
  {
   "attachments": {},
   "cell_type": "markdown",
   "metadata": {},
   "source": [
    "### Test how many images in ImageNette are segmented with more than 100 segments"
   ]
  },
  {
   "cell_type": "code",
   "execution_count": 1,
   "metadata": {},
   "outputs": [
    {
     "name": "stderr",
     "output_type": "stream",
     "text": [
      "/home/hongbo/anaconda3/envs/hongbo_lipex/lib/python3.9/site-packages/tqdm/auto.py:21: TqdmWarning: IProgress not found. Please update jupyter and ipywidgets. See https://ipywidgets.readthedocs.io/en/stable/user_install.html\n",
      "  from .autonotebook import tqdm as notebook_tqdm\n"
     ]
    },
    {
     "name": "stdout",
     "output_type": "stream",
     "text": [
      "Number of available images: 3925\n"
     ]
    }
   ],
   "source": [
    "# prepare images\n",
    "import numpy as np\n",
    "import torch\n",
    "import matplotlib.pyplot as plt\n",
    "import cv2\n",
    "import random\n",
    "random.seed(42)\n",
    "import os, json\n",
    "\n",
    "\n",
    "# test_imgs_idx = random.sample(range(0, len(ImgeNet)), test_imgs_num)\n",
    "imgExtension = [\"png\", \"jpeg\", \"JPEG\", \"jpg\"] #Image Extensions to be chosen from\n",
    "allImages = list()\n",
    "def chooseRandomImage(directory=\"/media/hongbo/Experiment/Hongbo/ImageNet/imagenette-320px/val\"):\n",
    "    for img in os.listdir(directory): #Lists all files\n",
    "        ext = img.split(\".\")[-1]\n",
    "        if (ext in imgExtension):\n",
    "            allImages.append(img)\n",
    "    # choice = random.randint(0, len(allImages) - 1)\n",
    "    # chosenImage = random.choices(allImages, k = test_imgs_num)\n",
    "    random.shuffle(allImages)\n",
    "    chosenImage = list(set(allImages))\n",
    "    # print('Number of available images:', len(chosenImage))\n",
    "    # chosenImage = allImages[choice] #Do Whatever you want with the image file\n",
    "    return [os.path.join(directory, img) for img in chosenImage]\n",
    "\n",
    "randomImage = chooseRandomImage()\n",
    "print('Number of available images:', len(randomImage))"
   ]
  },
  {
   "cell_type": "code",
   "execution_count": 2,
   "metadata": {},
   "outputs": [
    {
     "name": "stdout",
     "output_type": "stream",
     "text": [
      "NVIDIA GeForce RTX 3090\n"
     ]
    }
   ],
   "source": [
    "# prepare SegmentAnything\n",
    "import sys\n",
    "sys.path.append(\"..\")\n",
    "from segment_anything import sam_model_registry, SamAutomaticMaskGenerator, SamPredictor\n",
    "\n",
    "sam_checkpoint = \"/mnt/b432dc15-0b9a-4f76-9076-5bf99fe91d74/Hongbo/segment-anything/checkpoint/sam_vit_h_4b8939.pth\"\n",
    "model_type = \"vit_h\"\n",
    "device = \"cuda:0\"\n",
    "print(torch.cuda.get_device_name(device=device))\n",
    "sam = sam_model_registry[model_type](checkpoint=sam_checkpoint)\n",
    "sam.to(device=device)\n",
    "mask_generator = SamAutomaticMaskGenerator(sam)"
   ]
  },
  {
   "cell_type": "code",
   "execution_count": 3,
   "metadata": {},
   "outputs": [
    {
     "name": "stderr",
     "output_type": "stream",
     "text": [
      "100%|██████████| 3925/3925 [1:52:24<00:00,  1.72s/it]\n"
     ]
    }
   ],
   "source": [
    "# apply SegmentAnything on images with more than 100 segments are found\n",
    "from tqdm import tqdm\n",
    "valid_images, images_segments_num, segmented_images = [], [], []\n",
    "for image_path in tqdm(randomImage):\n",
    "    image = cv2.imread(image_path)\n",
    "    image_name = image_path.split('/')[-1]\n",
    "    image = cv2.resize(image, (256, 256))\n",
    "    image = cv2.cvtColor(image, cv2.COLOR_BGR2RGB)\n",
    "    # print(\"Image shape:\", image.shape)\n",
    "    masks = mask_generator.generate(image)\n",
    "    masks = sorted(masks, key=(lambda x: x['area']))\n",
    "\n",
    "    LIPEx_segments = np.zeros((image.shape[0], image.shape[1]), dtype=np.uint8)\n",
    "    for idx in range(len(masks))[::-1]:\n",
    "        cur_mask = masks[idx]['segmentation']\n",
    "        LIPEx_segments[cur_mask] = idx\n",
    "    # print(LIPEx_segments)\n",
    "    # print(len(np.unique(LIPEx_segments)), np.unique(LIPEx_segments))\n",
    "    # np.save(os.path.join('ImageNette_Segments', image_name.replace('.JPEG', 'txt')), LIPEx_segments, fmt='%d')\n",
    "    np.save(os.path.join('ImageNette_Segments', image_name.replace('.JPEG', 'npy')), LIPEx_segments)\n",
    "    num_seg = len(np.unique(LIPEx_segments))\n",
    "    segmented_images.append(image_path)\n",
    "    with open('ImageNette/ImageNette_Segmented_files.txt', 'a') as sf:\n",
    "         sf.write('{},{}\\n'.format(image_name, num_seg))\n",
    "    images_segments_num.append(num_seg)\n",
    "    if num_seg > 99:\n",
    "           valid_images.append(image_path)\n",
    "           with open('ImageNette/valid_images.txt', 'a') as f:\n",
    "               f.write(image_name+'\\n')\n",
    "    # if len(valid_images) == 200:\n",
    "    #     break\n"
   ]
  },
  {
   "cell_type": "code",
   "execution_count": 6,
   "metadata": {},
   "outputs": [
    {
     "name": "stdout",
     "output_type": "stream",
     "text": [
      "Number of processed images: 2251\n",
      "Number of unprocessed images: 1674\n"
     ]
    }
   ],
   "source": [
    "# find unsegmented images\n",
    "with open('ImageNette/ImageNette_Segmented_files.txt', 'r') as f:\n",
    "    segmented_files = f.readlines()\n",
    "    processed_images = [os.path.join('/media/hongbo/Experiment/Hongbo/ImageNet/imagenette-320px/val', line.split(',')[0]) for line in segmented_files]\n",
    "    print('Number of processed images:', len(processed_images))\n",
    "\n",
    "unprocessed_images = list(set(randomImage) - set(processed_images))\n",
    "print('Number of unprocessed images:', len(unprocessed_images))"
   ]
  },
  {
   "cell_type": "code",
   "execution_count": 8,
   "metadata": {},
   "outputs": [
    {
     "name": "stderr",
     "output_type": "stream",
     "text": [
      "100%|██████████| 1674/1674 [47:27<00:00,  1.70s/it]\n"
     ]
    }
   ],
   "source": [
    "# apply SegmentAnything on images: continue segmenting the rest of images\n",
    "from tqdm import tqdm\n",
    "valid_images, images_segments_num, segmented_images = [], [], []\n",
    "for image_path in tqdm(unprocessed_images):\n",
    "    image = cv2.imread(image_path)\n",
    "    image_name = image_path.split('/')[-1]\n",
    "    image = cv2.resize(image, (224, 224))\n",
    "    image = cv2.cvtColor(image, cv2.COLOR_BGR2RGB)\n",
    "    # print(\"Image shape:\", image.shape)\n",
    "    masks = mask_generator.generate(image)\n",
    "    masks = sorted(masks, key=(lambda x: x['area']))\n",
    "\n",
    "    LIPEx_segments = np.zeros((image.shape[0], image.shape[1]), dtype=np.uint8)\n",
    "    for idx in range(len(masks))[::-1]:\n",
    "        cur_mask = masks[idx]['segmentation']\n",
    "        LIPEx_segments[cur_mask] = idx\n",
    "    # print(LIPEx_segments)\n",
    "    # print(len(np.unique(LIPEx_segments)), np.unique(LIPEx_segments))\n",
    "    # np.save(os.path.join('ImageNette_Segments', image_name.replace('.JPEG', 'txt')), LIPEx_segments, fmt='%d')\n",
    "    np.save(os.path.join('ImageNette_Segments', image_name.replace('.JPEG', 'npy')), LIPEx_segments)\n",
    "    num_seg = len(np.unique(LIPEx_segments))\n",
    "    segmented_images.append(image_path)\n",
    "    with open('ImageNette/ImageNette_Segmented_files.txt', 'a') as sf:\n",
    "         sf.write('{},{}\\n'.format(image_name, num_seg))\n",
    "    images_segments_num.append(num_seg)\n",
    "    if num_seg > 99:\n",
    "           valid_images.append(image_path)\n",
    "           with open('ImageNette/valid_images.txt', 'a') as f:\n",
    "               f.write(image_name+'\\n')\n"
   ]
  },
  {
   "cell_type": "code",
   "execution_count": 2,
   "metadata": {},
   "outputs": [
    {
     "name": "stdout",
     "output_type": "stream",
     "text": [
      "Number of available images: 3925\n",
      "['/media/hongbo/Experiment/Hongbo/ImageNet/imagenette-320px/val/n03425413_14672.JPEG', '/media/hongbo/Experiment/Hongbo/ImageNet/imagenette-320px/val/n03394916_46941.JPEG', '/media/hongbo/Experiment/Hongbo/ImageNet/imagenette-320px/val/n03000684_1692.JPEG']\n"
     ]
    }
   ],
   "source": [
    "# prepare images\n",
    "import numpy as np\n",
    "import matplotlib.pyplot as plt\n",
    "import random\n",
    "random.seed(42)\n",
    "import os, json\n",
    "\n",
    "\n",
    "# test_imgs_idx = random.sample(range(0, len(ImgeNet)), test_imgs_num)\n",
    "imgExtension = [\"png\", \"jpeg\", \"JPEG\", \"jpg\"] #Image Extensions to be chosen from\n",
    "allImages = list()\n",
    "def chooseRandomImage(directory=\"/media/hongbo/Experiment/Hongbo/ImageNet/imagenette-320px/val\"):\n",
    "    for img in os.listdir(directory): #Lists all files\n",
    "        ext = img.split(\".\")[-1]\n",
    "        if (ext in imgExtension):\n",
    "            allImages.append(img)\n",
    "    chosenImage = list(set(allImages))\n",
    "    for img in chosenImage:\n",
    "        with open('ImageNette/images.txt', 'a') as f:\n",
    "            f.write(img+'\\n')\n",
    "    # return [os.path.join(directory, img) for img in chosenImage]\n",
    "randomImage = chooseRandomImage()\n",
    "# print('Number of available images:', len(randomImage))\n",
    "# print(randomImage[:3])"
   ]
  },
  {
   "cell_type": "code",
   "execution_count": 4,
   "metadata": {},
   "outputs": [
    {
     "name": "stdout",
     "output_type": "stream",
     "text": [
      "['n01440764_2921.JPEG', 'n03445777_832.JPEG', 'n01440764_1951.JPEG']\n"
     ]
    }
   ],
   "source": [
    "# prepare images\n",
    "import numpy as np\n",
    "import torch\n",
    "import matplotlib.pyplot as plt\n",
    "import cv2\n",
    "import random\n",
    "random.seed(42)\n",
    "import os, json\n",
    "\n",
    "# test_imgs_idx = random.sample(range(0, len(ImgeNet)), test_imgs_num)\n",
    "imgExtension = [\"png\", \"jpeg\", \"JPEG\", \"jpg\"] #Image Extensions to be chosen from\n",
    "allImages = list()\n",
    "test_imgs_num = 200\n",
    "def chooseRandomImage(directory=\"/media/hongbo/Experiment/Hongbo/ImageNet/imagenette-320px/val\"):\n",
    "    for img in os.listdir(directory): #Lists all files\n",
    "        ext = img.split(\".\")[-1]\n",
    "        if (ext in imgExtension):\n",
    "            allImages.append(img)\n",
    "    choice = random.randint(0, len(allImages) - 1)\n",
    "    chosenImage = random.choices(allImages, k = test_imgs_num)\n",
    "    return chosenImage\n",
    "    # chosenImage = allImages[choice] #Do Whatever you want with the image file\n",
    "    # return [os.path.join(directory, img) for img in chosenImage]\n",
    "\n",
    "randomImage = chooseRandomImage()\n",
    "print(randomImage[:3])\n",
    "# print('Number of chosen images:', len(randomImage))"
   ]
  },
  {
   "cell_type": "code",
   "execution_count": 16,
   "metadata": {},
   "outputs": [
    {
     "name": "stdout",
     "output_type": "stream",
     "text": [
      "Number of available images: 378\n",
      "['n03394916_29940.JPEG', 'n03394916_47211.JPEG', 'n03417042_1770.JPEG', 'n03000684_13270.JPEG', 'n03028079_12732.JPEG', 'n03394916_26391.JPEG', 'n03417042_25212.JPEG', 'n03000684_16151.JPEG', 'n03425413_13831.JPEG', 'n03000684_2472.JPEG']\n"
     ]
    }
   ],
   "source": [
    "import random\n",
    "random.seed(42)\n",
    "\n",
    "img_directory=\"/media/hongbo/Experiment/Hongbo/ImageNet/imagenette-320px/val\"\n",
    "segs_path = '/mnt/b432dc15-0b9a-4f76-9076-5bf99fe91d74/Hongbo/LIPEx/segment-anything/notebooks/ImageNette_Segments'\n",
    "def chooseRandomImage(\n",
    "        valid_files=\"/mnt/b432dc15-0b9a-4f76-9076-5bf99fe91d74/Hongbo/LIPEx/segment-anything/notebooks/ImageNette/valid_images.txt\"\n",
    "        ):\n",
    "    with open(valid_files, 'r') as f:\n",
    "        chosenImage = f.readlines()\n",
    "    chosenImage = [img.strip() for img in chosenImage]\n",
    "    print('Number of available images:', len(chosenImage))\n",
    "    return chosenImage\n",
    "\n",
    "randomImage_path = chooseRandomImage()\n",
    "random.shuffle(randomImage_path)\n",
    "print(randomImage_path[:10])"
   ]
  }
 ],
 "metadata": {
  "kernelspec": {
   "display_name": "base",
   "language": "python",
   "name": "python3"
  },
  "language_info": {
   "codemirror_mode": {
    "name": "ipython",
    "version": 3
   },
   "file_extension": ".py",
   "mimetype": "text/x-python",
   "name": "python",
   "nbconvert_exporter": "python",
   "pygments_lexer": "ipython3",
   "version": "3.9.16"
  },
  "orig_nbformat": 4
 },
 "nbformat": 4,
 "nbformat_minor": 2
}
