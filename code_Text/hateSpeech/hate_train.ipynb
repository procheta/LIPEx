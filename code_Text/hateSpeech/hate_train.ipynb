{
 "cells": [
  {
   "cell_type": "code",
   "execution_count": 1,
   "metadata": {},
   "outputs": [
    {
     "name": "stdout",
     "output_type": "stream",
     "text": [
      "GPU: NVIDIA GeForce RTX 3090\n"
     ]
    },
    {
     "name": "stderr",
     "output_type": "stream",
     "text": [
      "Found cached dataset hatexplain (/home/hongbo/.cache/huggingface/datasets/hatexplain/plain_text/1.0.0/df474d8d8667d89ef30649bf66e9c856ad8305bef4bc147e8e31cbdf1b8e0249)\n"
     ]
    },
    {
     "name": "stdout",
     "output_type": "stream",
     "text": [
      "Number of processed data: 9132, Number of original data: 15383\n",
      "Example of processed data: {'id': '23107796_gab', 'label': 2, 'token_label': [0, 0, 0, 0, 0, 0, 0, 0, 1, 0, 0, 0, 0, 0, 0, 0, 0, 0, 0, 0, 0, 1, 1, 0, 0, 0, 0, 0, 0, 0, 0, 0, 0], 'tokens': ['u', 'really', 'think', 'i', 'would', 'not', 'have', 'been', 'raped', 'by', 'feral', 'hindu', 'or', 'muslim', 'back', 'in', 'india', 'or', 'bangladesh', 'and', 'a', 'neo', 'nazi', 'would', 'rape', 'me', 'as', 'well', 'just', 'to', 'see', 'me', 'cry'], 'text': 'u really think i would not have been raped by feral hindu or muslim back in india or bangladesh and a neo nazi would rape me as well just to see me cry'}\n"
     ]
    },
    {
     "name": "stderr",
     "output_type": "stream",
     "text": [
      "Found cached dataset hatexplain (/home/hongbo/.cache/huggingface/datasets/hatexplain/plain_text/1.0.0/df474d8d8667d89ef30649bf66e9c856ad8305bef4bc147e8e31cbdf1b8e0249)\n"
     ]
    },
    {
     "name": "stdout",
     "output_type": "stream",
     "text": [
      "Number of processed data: 1141, Number of original data: 1922\n",
      "Example of processed data: {'id': '15473637_gab', 'label': 0, 'token_label': [0, 0, 0, 0, 1, 1, 0, 0, 0, 0, 0, 0, 0, 0, 0, 0, 0, 0, 0, 0, 0, 0, 0, 0, 0, 0, 0, 0, 0, 0, 0, 0, 0, 0, 0], 'tokens': ['democrats', 'from', 'minnesota', 'leftist', 'muzzie', 'shithole', 'are', 'the', 'dumbest', 'anti', 'americans', 'there', 'are', 'klobuchar', 'one', 'of', 'the', 'reps', 'is', 'a', 'dumb', 'bitch', 'who', 'has', 'a', 'moronic', 'position', 'on', 'the', 'tax', 'bill', 'fuck', 'this', 'stupid', 'woman'], 'text': 'democrats from minnesota leftist muzzie shithole are the dumbest anti americans there are klobuchar one of the reps is a dumb bitch who has a moronic position on the tax bill fuck this stupid woman'}\n"
     ]
    },
    {
     "name": "stderr",
     "output_type": "stream",
     "text": [
      "Found cached dataset hatexplain (/home/hongbo/.cache/huggingface/datasets/hatexplain/plain_text/1.0.0/df474d8d8667d89ef30649bf66e9c856ad8305bef4bc147e8e31cbdf1b8e0249)\n"
     ]
    },
    {
     "name": "stdout",
     "output_type": "stream",
     "text": [
      "Number of processed data: 1142, Number of original data: 1924\n",
      "Example of processed data: {'id': '1252707503441313794_twitter', 'label': 2, 'token_label': [0, 0, 0, 0, 0, 0, 0, 0, 0, 0, 0, 1], 'tokens': ['<user>', '<user>', 'why', 'are', 'you', 'repeating', 'yourself', 'are', 'you', 'a', 'little', 'retarded'], 'text': '<user> <user> why are you repeating yourself are you a little retarded'}\n"
     ]
    }
   ],
   "source": [
    "#! /usr/bin/env python3\n",
    "import numpy as np\n",
    "import torch\n",
    "from transformers import BertTokenizer, BertForSequenceClassification\n",
    "from datasets import load_dataset\n",
    "from statistics import mode\n",
    "import os\n",
    "os.environ['CUDA_LAUNCH_BLOCKING'] = \"1\"\n",
    "\n",
    "label_names =[\"hate\", \"offensive\"]\n",
    "\n",
    "device = torch.device(\"cuda:0\" if torch.cuda.is_available() else \"cpu\")\n",
    "print('GPU:',torch.cuda.get_device_name(device=device))\n",
    "\n",
    "def preprecess(dataset):\n",
    "    processed_data = []\n",
    "    for id, ann, rationale, tokens in zip(dataset['id'], dataset['annotators'], dataset['rationales'], dataset['post_tokens']):\n",
    "        if rationale != []:\n",
    "            if len(rationale) == 2:\n",
    "                token_label = [1 if i > 1 else 0 for i in [rationale[0][j]+rationale[1][j] for j in range(len(rationale[0]))]]\n",
    "            elif len(rationale) == 3:\n",
    "                token_label = [1 if i > 1 else 0 for i in [rationale[0][j]+rationale[1][j]+rationale[2][j] for j in range(len(rationale[0]))]]\n",
    "            else:\n",
    "                raise ValueError(\"Rationale length is not 2 or 3\")\n",
    "            \n",
    "            label = ann['label']\n",
    "            gold_label = mode(label)\n",
    "            text = ' '.join(tokens)\n",
    "\n",
    "            processed_data.append({'id': id, 'label': gold_label, 'token_label': token_label, 'tokens': tokens, 'text': text})\n",
    "        else:\n",
    "            continue\n",
    "\n",
    "    print(f\"Number of processed data: {len(processed_data)}, Number of original data: {len(dataset)}\")\n",
    "    print(f\"Example of processed data: {processed_data[0]}\")\n",
    "    return processed_data\n",
    "\n",
    "# Loading data\n",
    "train_df = preprecess(load_dataset('hatexplain', split='train'))\n",
    "valid_df = preprecess(load_dataset('hatexplain', split='validation'))\n",
    "test_df = preprecess(load_dataset('hatexplain', split='test'))"
   ]
  },
  {
   "cell_type": "code",
   "execution_count": 2,
   "metadata": {},
   "outputs": [
    {
     "name": "stdout",
     "output_type": "stream",
     "text": [
      "train_labels_set:{0, 1}\n",
      "valid_labels_set:{0, 1}\n"
     ]
    }
   ],
   "source": [
    "train_texts, train_labels = [], []\n",
    "for i in train_df:\n",
    "    train_texts.append(i['text'])\n",
    "    train_labels.append(i['label'])\n",
    "\n",
    "valid_texts, valid_labels = [], []\n",
    "for i in valid_df:\n",
    "    valid_texts.append(i['text'])\n",
    "    valid_labels.append(i['label'])\n",
    "\n",
    "train_labels = [1 if x == 2 else x for x in train_labels]\n",
    "valid_labels = [1 if x == 2 else x for x in valid_labels]\n",
    "\n",
    "train_labels_set = set(train_labels)\n",
    "print(f\"train_labels_set:{train_labels_set}\")\n",
    "valid_labels_set = set(valid_labels)\n",
    "print(f\"valid_labels_set:{valid_labels_set}\")"
   ]
  },
  {
   "cell_type": "code",
   "execution_count": 3,
   "metadata": {},
   "outputs": [],
   "source": [
    "PRETRAINED_LM = \"bert-base-uncased\"\n",
    "tokenizer = BertTokenizer.from_pretrained(PRETRAINED_LM, do_lower_case = True)\n",
    "\n",
    "def encode(docs):\n",
    "    encoded_dict = tokenizer(docs, add_special_tokens=True, max_length=128, padding=True, return_attention_mask=True, truncation=True, return_tensors='pt')\n",
    "    input_ids = encoded_dict['input_ids']\n",
    "    attention_masks = encoded_dict['attention_mask']\n",
    "    return input_ids, attention_masks"
   ]
  },
  {
   "cell_type": "code",
   "execution_count": 4,
   "metadata": {},
   "outputs": [],
   "source": [
    "train_input_ids, train_att_masks = encode(train_texts)\n",
    "valid_input_ids, valid_att_masks = encode(valid_texts)\n",
    "\n",
    "train_y = torch.tensor(train_labels)\n",
    "valid_y = torch.tensor(valid_labels)"
   ]
  },
  {
   "cell_type": "code",
   "execution_count": 5,
   "metadata": {},
   "outputs": [],
   "source": [
    "from torch.utils.data import TensorDataset, DataLoader, RandomSampler, SequentialSampler\n",
    "BATCH_SIZE = 128 # 128 for 3090\n",
    "\n",
    "train_dataset = TensorDataset(train_input_ids, train_att_masks, train_y)\n",
    "train_sampler = RandomSampler(train_dataset)\n",
    "train_dataloader = DataLoader(train_dataset, sampler=train_sampler, batch_size=BATCH_SIZE)\n",
    "\n",
    "valid_dataset = TensorDataset(valid_input_ids, valid_att_masks, valid_y)\n",
    "valid_sampler = SequentialSampler(valid_dataset)\n",
    "valid_dataloader = DataLoader(valid_dataset, sampler=valid_sampler, batch_size=BATCH_SIZE)"
   ]
  },
  {
   "cell_type": "code",
   "execution_count": 6,
   "metadata": {},
   "outputs": [
    {
     "name": "stderr",
     "output_type": "stream",
     "text": [
      "Some weights of the model checkpoint at bert-base-uncased were not used when initializing BertForSequenceClassification: ['cls.predictions.bias', 'cls.predictions.decoder.weight', 'cls.seq_relationship.bias', 'cls.predictions.transform.dense.weight', 'cls.predictions.transform.LayerNorm.weight', 'cls.seq_relationship.weight', 'cls.predictions.transform.LayerNorm.bias', 'cls.predictions.transform.dense.bias']\n",
      "- This IS expected if you are initializing BertForSequenceClassification from the checkpoint of a model trained on another task or with another architecture (e.g. initializing a BertForSequenceClassification model from a BertForPreTraining model).\n",
      "- This IS NOT expected if you are initializing BertForSequenceClassification from the checkpoint of a model that you expect to be exactly identical (initializing a BertForSequenceClassification model from a BertForSequenceClassification model).\n",
      "Some weights of BertForSequenceClassification were not initialized from the model checkpoint at bert-base-uncased and are newly initialized: ['classifier.weight', 'classifier.bias']\n",
      "You should probably TRAIN this model on a down-stream task to be able to use it for predictions and inference.\n"
     ]
    }
   ],
   "source": [
    "N_labels = 2\n",
    "\n",
    "model = BertForSequenceClassification.from_pretrained(PRETRAINED_LM,\n",
    "                                                      num_labels=N_labels,\n",
    "                                                      output_attentions=False,\n",
    "                                                      output_hidden_states=False)\n",
    "model = model.to(device)"
   ]
  },
  {
   "cell_type": "code",
   "execution_count": 7,
   "metadata": {},
   "outputs": [
    {
     "name": "stdout",
     "output_type": "stream",
     "text": [
      "Epoch:  1\n"
     ]
    },
    {
     "name": "stderr",
     "output_type": "stream",
     "text": [
      "Training: 100%|██████████| 72/72 [00:40<00:00,  1.80it/s]\n",
      "Validation: 100%|██████████| 9/9 [00:01<00:00,  7.52it/s]\n"
     ]
    },
    {
     "name": "stdout",
     "output_type": "stream",
     "text": [
      "Validation Accuracy: 0.8028045574057844\n",
      "72/72 train loss: 0.5123165961768892 \n",
      "9/9 val loss: 0.04955406542177553 \n",
      "Epoch:  2\n"
     ]
    },
    {
     "name": "stderr",
     "output_type": "stream",
     "text": [
      "Training: 100%|██████████| 72/72 [00:38<00:00,  1.86it/s]\n",
      "Validation: 100%|██████████| 9/9 [00:01<00:00,  7.48it/s]\n"
     ]
    },
    {
     "name": "stdout",
     "output_type": "stream",
     "text": [
      "Validation Accuracy: 0.8177037686240141\n",
      "72/72 train loss: 0.3982967287302017 \n",
      "9/9 val loss: 0.04948931490933453 \n",
      "Epoch:  3\n"
     ]
    },
    {
     "name": "stderr",
     "output_type": "stream",
     "text": [
      "Training: 100%|██████████| 72/72 [00:38<00:00,  1.87it/s]\n",
      "Validation: 100%|██████████| 9/9 [00:01<00:00,  7.44it/s]\n"
     ]
    },
    {
     "name": "stdout",
     "output_type": "stream",
     "text": [
      "Validation Accuracy: 0.7519719544259421\n",
      "72/72 train loss: 0.28904101645780933 \n",
      "9/9 val loss: 0.06776230791468679 \n",
      "Epoch:  4\n"
     ]
    },
    {
     "name": "stderr",
     "output_type": "stream",
     "text": [
      "Training: 100%|██████████| 72/72 [00:38<00:00,  1.86it/s]\n",
      "Validation: 100%|██████████| 9/9 [00:01<00:00,  7.43it/s]\n"
     ]
    },
    {
     "name": "stdout",
     "output_type": "stream",
     "text": [
      "Validation Accuracy: 0.7922874671340929\n",
      "72/72 train loss: 0.18556912201974127 \n",
      "9/9 val loss: 0.07385239924913571 \n",
      "Epoch:  5\n"
     ]
    },
    {
     "name": "stderr",
     "output_type": "stream",
     "text": [
      "Training: 100%|██████████| 72/72 [00:38<00:00,  1.86it/s]\n",
      "Validation: 100%|██████████| 9/9 [00:01<00:00,  7.41it/s]\n"
     ]
    },
    {
     "name": "stdout",
     "output_type": "stream",
     "text": [
      "Validation Accuracy: 0.7808939526730938\n",
      "72/72 train loss: 0.11478279888009031 \n",
      "9/9 val loss: 0.09067198450182691 \n",
      "Epoch:  6\n"
     ]
    },
    {
     "name": "stderr",
     "output_type": "stream",
     "text": [
      "Training: 100%|██████████| 72/72 [00:38<00:00,  1.86it/s]\n",
      "Validation: 100%|██████████| 9/9 [00:01<00:00,  7.45it/s]\n"
     ]
    },
    {
     "name": "stdout",
     "output_type": "stream",
     "text": [
      "Validation Accuracy: 0.782646801051709\n",
      "72/72 train loss: 0.06776695034932345 \n",
      "9/9 val loss: 0.10741437953195454 \n",
      "Epoch:  7\n"
     ]
    },
    {
     "name": "stderr",
     "output_type": "stream",
     "text": [
      "Training: 100%|██████████| 72/72 [00:38<00:00,  1.86it/s]\n",
      "Validation: 100%|██████████| 9/9 [00:01<00:00,  7.40it/s]\n"
     ]
    },
    {
     "name": "stdout",
     "output_type": "stream",
     "text": [
      "Validation Accuracy: 0.7852760736196319\n",
      "72/72 train loss: 0.05735133807562912 \n",
      "9/9 val loss: 0.11126066210829182 \n",
      "Epoch:  8\n"
     ]
    },
    {
     "name": "stderr",
     "output_type": "stream",
     "text": [
      "Training: 100%|██████████| 72/72 [00:38<00:00,  1.85it/s]\n",
      "Validation: 100%|██████████| 9/9 [00:01<00:00,  7.44it/s]\n"
     ]
    },
    {
     "name": "stdout",
     "output_type": "stream",
     "text": [
      "Validation Accuracy: 0.7712532865907099\n",
      "72/72 train loss: 0.038817081092727475 \n",
      "9/9 val loss: 0.12893521197048236 \n",
      "Epoch:  9\n"
     ]
    },
    {
     "name": "stderr",
     "output_type": "stream",
     "text": [
      "Training: 100%|██████████| 72/72 [00:38<00:00,  1.87it/s]\n",
      "Validation: 100%|██████████| 9/9 [00:01<00:00,  7.45it/s]\n"
     ]
    },
    {
     "name": "stdout",
     "output_type": "stream",
     "text": [
      "Validation Accuracy: 0.7668711656441718\n",
      "72/72 train loss: 0.02911406678483925 \n",
      "9/9 val loss: 0.14396596396410907 \n",
      "Epoch:  10\n"
     ]
    },
    {
     "name": "stderr",
     "output_type": "stream",
     "text": [
      "Training: 100%|██████████| 72/72 [00:38<00:00,  1.86it/s]\n",
      "Validation: 100%|██████████| 9/9 [00:01<00:00,  7.45it/s]\n"
     ]
    },
    {
     "name": "stdout",
     "output_type": "stream",
     "text": [
      "Validation Accuracy: 0.7852760736196319\n",
      "72/72 train loss: 0.029057518868487224 \n",
      "9/9 val loss: 0.1330586443712682 \n",
      "Epoch:  11\n"
     ]
    },
    {
     "name": "stderr",
     "output_type": "stream",
     "text": [
      "Training: 100%|██████████| 72/72 [00:38<00:00,  1.85it/s]\n",
      "Validation: 100%|██████████| 9/9 [00:01<00:00,  7.46it/s]\n"
     ]
    },
    {
     "name": "stdout",
     "output_type": "stream",
     "text": [
      "Validation Accuracy: 0.775635407537248\n",
      "72/72 train loss: 0.029421202789914485 \n",
      "9/9 val loss: 0.14422310723198783 \n",
      "Epoch:  12\n"
     ]
    },
    {
     "name": "stderr",
     "output_type": "stream",
     "text": [
      "Training: 100%|██████████| 72/72 [00:38<00:00,  1.86it/s]\n",
      "Validation: 100%|██████████| 9/9 [00:01<00:00,  7.40it/s]\n"
     ]
    },
    {
     "name": "stdout",
     "output_type": "stream",
     "text": [
      "Validation Accuracy: 0.7931638913234005\n",
      "72/72 train loss: 0.019776629167608917 \n",
      "9/9 val loss: 0.14296530058354506 \n",
      "Epoch:  13\n"
     ]
    },
    {
     "name": "stderr",
     "output_type": "stream",
     "text": [
      "Training: 100%|██████████| 72/72 [00:38<00:00,  1.85it/s]\n",
      "Validation: 100%|██████████| 9/9 [00:01<00:00,  7.24it/s]"
     ]
    },
    {
     "name": "stdout",
     "output_type": "stream",
     "text": [
      "Validation Accuracy: 0.7975460122699386\n"
     ]
    },
    {
     "name": "stderr",
     "output_type": "stream",
     "text": [
      "\n"
     ]
    }
   ],
   "source": [
    "import matplotlib.pyplot as plt\n",
    "from torch.optim import AdamW\n",
    "from transformers import get_linear_schedule_with_warmup\n",
    "from torch.nn.utils import clip_grad_norm_\n",
    "from tqdm import tqdm\n",
    "import torch, os, shutil\n",
    "import math\n",
    "\n",
    "EPOCHS = 50\n",
    "LEARNING_RATE = 5e-5\n",
    "\n",
    "optimizer = AdamW(model.parameters(), lr=LEARNING_RATE)\n",
    "scheduler = get_linear_schedule_with_warmup(optimizer, num_warmup_steps=0, num_training_steps=len(train_dataloader)*EPOCHS )\n",
    "\n",
    "train_loss_per_epoch = []\n",
    "val_loss_per_epoch = []\n",
    "valid_acc = []\n",
    "\n",
    "PATH = '/mnt/b432dc15-0b9a-4f76-9076-5bf99fe91d74/Hongbo/LIPEx/code_Text/hateSpeech'\n",
    "best_model_path = os.path.join(PATH, 'best_ckpt')\n",
    "_acc = float('-inf')\n",
    "patience = 0\n",
    "\n",
    "for epoch_num in range(EPOCHS):\n",
    "    print('Epoch: ', epoch_num + 1)\n",
    "    '''\n",
    "    Training\n",
    "    '''\n",
    "    model.train()\n",
    "    train_loss = 0\n",
    "    for step_num, batch_data in enumerate(tqdm(train_dataloader,desc='Training')):\n",
    "        input_ids, att_mask, labels = [data.to(device) for data in batch_data]\n",
    "        output = model(input_ids = input_ids, attention_mask=att_mask, labels= labels)\n",
    "        \n",
    "        loss = output.loss\n",
    "        train_loss += loss.item()\n",
    "\n",
    "        model.zero_grad()\n",
    "        loss.backward()\n",
    "        del loss\n",
    "\n",
    "        clip_grad_norm_(parameters=model.parameters(), max_norm=1.0)\n",
    "        optimizer.step()\n",
    "        scheduler.step()\n",
    "\n",
    "    train_loss_per_epoch.append(train_loss / (step_num + 1))              \n",
    "\n",
    "\n",
    "    '''\n",
    "    Validation\n",
    "    '''\n",
    "    model.eval()\n",
    "    valid_loss = 0 \n",
    " \n",
    "    with torch.no_grad():\n",
    "        for step_num_e, batch_data in enumerate(tqdm(valid_dataloader,desc='Validation')):\n",
    "            input_ids, att_mask, labels = [data.to(device) for data in batch_data]\n",
    "            output = model(input_ids = input_ids, attention_mask=att_mask, labels= labels)\n",
    "\n",
    "            loss = output.loss\n",
    "            valid_loss += loss.item()\n",
    "\n",
    "            step_output = output.logits\n",
    "            step_output = torch.softmax(step_output, dim=1).detach().cpu().numpy()\n",
    "            step_output = np.argmax(step_output, axis=1).flatten()\n",
    "            step_label_ids = labels.cpu().numpy().flatten()\n",
    "            if step_num_e == 0:\n",
    "                y_pred = step_output\n",
    "                y_true = step_label_ids\n",
    "            else:\n",
    "                y_pred = np.concatenate((y_pred, step_output))\n",
    "                y_true = np.concatenate((y_true, step_label_ids))\n",
    "        \n",
    "        accuracy = (y_true == y_pred).sum() / len(y_true)\n",
    "        valid_acc.append(accuracy)\n",
    "        print(\"Validation Accuracy: {}\".format(accuracy))\n",
    "        if accuracy > _acc:\n",
    "            patience = 0\n",
    "            _acc = accuracy\n",
    "            if os.path.exists(best_model_path):\n",
    "                shutil.rmtree(best_model_path)\n",
    "                os.makedirs(best_model_path)\n",
    "            else:\n",
    "                os.makedirs(best_model_path)\n",
    "            torch.save(model.state_dict(), os.path.join(best_model_path, 'model-'+str(epoch_num+1)+'.pt'))\n",
    "        else:\n",
    "            patience += 1\n",
    "            if patience > 10: # if accuracy does not improve for 10 epochs, then we stop training\n",
    "                break\n",
    "\n",
    "    valid_loss = (valid_loss / (step_num_e + 1))\n",
    "    val_loss_per_epoch.append(valid_loss)\n",
    "        \n",
    "    '''\n",
    "    Loss message\n",
    "    '''\n",
    "    print(\"{0}/{1} train loss: {2} \".format(step_num+1, math.ceil(len(train_df) / BATCH_SIZE), train_loss / (step_num + 1)))\n",
    "    print(\"{0}/{1} val loss: {2} \".format(step_num_e+1, math.ceil(len(valid_df) / BATCH_SIZE), valid_loss / (step_num_e + 1)))"
   ]
  },
  {
   "cell_type": "code",
   "execution_count": 11,
   "metadata": {},
   "outputs": [
    {
     "data": {
      "image/png": "[encoded data removed]",
      "text/plain": [
       "<Figure size 640x480 with 1 Axes>"
      ]
     },
     "metadata": {},
     "output_type": "display_data"
    }
   ],
   "source": [
    "# draw the loss curve\n",
    "epochs = range(1, epoch_num +1 )\n",
    "fig, ax = plt.subplots()\n",
    "ax.plot(epochs, train_loss_per_epoch[:-1], label ='training loss')\n",
    "ax.plot(epochs, valid_acc[:-1], label = 'validation accuracy' )\n",
    "ax.plot(epochs, val_loss_per_epoch, label = 'validation loss' )\n",
    "ax.set_title('Training and Validation loss')\n",
    "ax.set_xlabel('Epochs')\n",
    "ax.set_ylabel('Loss')\n",
    "ax.legend()\n",
    "plt.show()"
   ]
  },
  {
   "cell_type": "code",
   "execution_count": null,
   "metadata": {},
   "outputs": [],
   "source": []
  }
 ],
 "metadata": {
  "kernelspec": {
   "display_name": "hongbo_lipex",
   "language": "python",
   "name": "python3"
  },
  "language_info": {
   "codemirror_mode": {
    "name": "ipython",
    "version": 3
   },
   "file_extension": ".py",
   "mimetype": "text/x-python",
   "name": "python",
   "nbconvert_exporter": "python",
   "pygments_lexer": "ipython3",
   "version": "3.9.16"
  }
 },
 "nbformat": 4,
 "nbformat_minor": 2
}
